{
 "cells": [
  {
   "cell_type": "code",
   "execution_count": 3,
   "metadata": {},
   "outputs": [
    {
     "name": "stdout",
     "output_type": "stream",
     "text": [
      "56000\n"
     ]
    }
   ],
   "source": [
    "# python2 ? from __future__ import division, unicode_literals\n",
    "#each represents one of the classes\n",
    "#in 2.6 you have to change these to decimals so it doesn't mess up the prob which is a frac sometimes\n",
    "L = [5554, 6296, 5590, 5707, 5496, 5027, 5469, 5817, 5434, 5610]\n",
    "#total number of examples we have to work for? the sum of the L\n",
    "a =  sum(L)\n",
    "print(a)"
   ]
  },
  {
   "cell_type": "code",
   "execution_count": 6,
   "metadata": {},
   "outputs": [
    {
     "name": "stdout",
     "output_type": "stream",
     "text": [
      "0.09917857142857144\n",
      "[0.09917857142857144, 0.11242857142857143, 0.09982142857142857, 0.10191071428571429, 0.09814285714285714, 0.08976785714285715, 0.09766071428571428, 0.103875, 0.09703571428571428, 0.10017857142857142]\n"
     ]
    }
   ],
   "source": [
    "#probability of each of those classes\n",
    "P = [i/a for i in L]\n",
    "print (P[0])\n",
    "#these are all p superscript i M values\n",
    "print(P)"
   ]
  },
  {
   "cell_type": "code",
   "execution_count": 11,
   "metadata": {},
   "outputs": [
    {
     "name": "stdout",
     "output_type": "stream",
     "text": [
      "[0.08934218239795919, 0.09978838775510204, 0.08985711096938775, 0.0915249205994898, 0.08851083673469388, 0.08170958896683674, 0.08812309917091836, 0.093084984375, 0.0876197844387755, 0.09014282525510203]\n",
      "0.8997037206632652\n"
     ]
    }
   ],
   "source": [
    "#GINI calculation\n",
    "#generate that part which is a list of P times 1-p\n",
    "G = [p*(1-p) for p in P]\n",
    "print(G)\n",
    "#to calculate the gini you do the sum\n",
    "print (sum(G))"
   ]
  },
  {
   "cell_type": "code",
   "execution_count": 18,
   "metadata": {},
   "outputs": [
    {
     "ename": "SyntaxError",
     "evalue": "invalid syntax (<ipython-input-18-897291687061>, line 7)",
     "output_type": "error",
     "traceback": [
      "\u001b[1;36m  File \u001b[1;32m\"<ipython-input-18-897291687061>\"\u001b[1;36m, line \u001b[1;32m7\u001b[0m\n\u001b[1;33m    print \"E: \", Entropy(L)\u001b[0m\n\u001b[1;37m              ^\u001b[0m\n\u001b[1;31mSyntaxError\u001b[0m\u001b[1;31m:\u001b[0m invalid syntax\n"
     ]
    }
   ],
   "source": [
    "#calculating entropy, element in the sum not quite entropy yet\n",
    "import math\n",
    "E = [p*math.log(p, 2) for p in P]\n",
    "print(E)\n",
    "#important for doing the split ourselves\n",
    "Entropy = lambda Pl:-1* sum([p*math.log(p,2) for p in Pl])\n",
    "print \"E: \", Entropy(L)"
   ]
  },
  {
   "cell_type": "code",
   "execution_count": 21,
   "metadata": {},
   "outputs": [
    {
     "ename": "SyntaxError",
     "evalue": "invalid syntax (<ipython-input-21-940303687197>, line 1)",
     "output_type": "error",
     "traceback": [
      "\u001b[1;36m  File \u001b[1;32m\"<ipython-input-21-940303687197>\"\u001b[1;36m, line \u001b[1;32m1\u001b[0m\n\u001b[1;33m    Probs = lambda Lx: [i/sum(Lx) for in Lx]\u001b[0m\n\u001b[1;37m                                       ^\u001b[0m\n\u001b[1;31mSyntaxError\u001b[0m\u001b[1;31m:\u001b[0m invalid syntax\n"
     ]
    }
   ],
   "source": [
    "Probs = lambda Lx: [i/sum(Lx) for in Lx]\n",
    "# now what about the split? the split should give the most info gained btwn the root and its kids\n",
    "L1 = [5371, 195, 779, 3959, 855, 3089, 1360, 3897, 540, 1770]\n",
    "L2 = [183, 6101, 4811, 1748, 4641, 1938, 4109, 1920, 4894, 3840]\n",
    "#when you add them it should rep the values of each of the groups after we do the split\n",
    "print Probs(L)\n",
    "print Entropy(Probs(L))\n",
    "print (Gini(Probs(L)))\n",
    "print (sum(L1) + sum(L2))"
   ]
  },
  {
   "cell_type": "code",
   "execution_count": null,
   "metadata": {},
   "outputs": [],
   "source": []
  }
 ],
 "metadata": {
  "kernelspec": {
   "display_name": "Python 3",
   "language": "python",
   "name": "python3"
  },
  "language_info": {
   "codemirror_mode": {
    "name": "ipython",
    "version": 3
   },
   "file_extension": ".py",
   "mimetype": "text/x-python",
   "name": "python",
   "nbconvert_exporter": "python",
   "pygments_lexer": "ipython3",
   "version": "3.7.2"
  }
 },
 "nbformat": 4,
 "nbformat_minor": 2
}
